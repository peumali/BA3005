{
 "cells": [
  {
   "cell_type": "code",
   "execution_count": 1,
   "id": "b9635eee",
   "metadata": {
    "_cell_guid": "b1076dfc-b9ad-4769-8c92-a6c4dae69d19",
    "_uuid": "8f2839f25d086af736a60e9eeb907d3b93b6e0e5",
    "execution": {
     "iopub.execute_input": "2021-09-19T13:56:23.423821Z",
     "iopub.status.busy": "2021-09-19T13:56:23.422640Z",
     "iopub.status.idle": "2021-09-19T13:56:24.412189Z",
     "shell.execute_reply": "2021-09-19T13:56:24.410765Z"
    },
    "papermill": {
     "duration": 1.018873,
     "end_time": "2021-09-19T13:56:24.412377",
     "exception": false,
     "start_time": "2021-09-19T13:56:23.393504",
     "status": "completed"
    },
    "tags": []
   },
   "outputs": [],
   "source": [
    "#Import required libraries\n",
    "import numpy as np\n",
    "import pandas as pd\n",
    "import matplotlib.pyplot as plt\n",
    "\n",
    "from datetime import datetime, timedelta\n",
    "from sklearn import preprocessing\n",
    "from lightfm import LightFM\n",
    "from lightfm.cross_validation import random_train_test_split\n",
    "from lightfm.evaluation import auc_score, precision_at_k, recall_at_k\n",
    "from lightfm.data import Dataset\n",
    "\n",
    "import time\n",
    "import pickle\n",
    "import re\n",
    "import itertools\n",
    "import gc"
   ]
  },
  {
   "cell_type": "code",
   "execution_count": 2,
   "id": "1394d73b",
   "metadata": {
    "execution": {
     "iopub.execute_input": "2021-09-19T13:56:24.477465Z",
     "iopub.status.busy": "2021-09-19T13:56:24.476635Z",
     "iopub.status.idle": "2021-09-19T13:56:24.478813Z",
     "shell.execute_reply": "2021-09-19T13:56:24.479352Z",
     "shell.execute_reply.started": "2021-09-19T12:55:21.132071Z"
    },
    "papermill": {
     "duration": 0.042359,
     "end_time": "2021-09-19T13:56:24.479529",
     "exception": false,
     "start_time": "2021-09-19T13:56:24.437170",
     "status": "completed"
    },
    "tags": []
   },
   "outputs": [],
   "source": [
    "class DataPrep:\n",
    "    def __init__(self):\n",
    "        pass\n",
    "    \n",
    "    def generate_feature_list(self, dataframe, features_name):\n",
    "    \n",
    "        \"\"\"\n",
    "        Generate features list for mapping \n",
    "    \n",
    "        Parameters\n",
    "        ----------\n",
    "            dataframe: Dataframe\n",
    "                Pandas Dataframe for Books. \n",
    "            features_name : List\n",
    "                List of feature columns name avaiable in dataframe. \n",
    "\n",
    "        Returns\n",
    "        -------\n",
    "            List of all features for mapping \n",
    "        \"\"\"\n",
    "        features = dataframe[features_name].apply(lambda x: ','.join(x.map(str)), axis=1)\n",
    "        features = features.str.split(',')\n",
    "        features = features.apply(pd.Series).stack().reset_index(drop=True)\n",
    "    \n",
    "        return features\n",
    "\n",
    "    def create_features(self, dataframe, features_name, id_col_name):\n",
    "        \"\"\"\n",
    "        Generate features that will be ready for feeding into lightfm\n",
    "    \n",
    "        Parameters\n",
    "        ----------\n",
    "            dataframe: Dataframe\n",
    "                Pandas Dataframe which contains features\n",
    "            features_name : List\n",
    "                List of feature columns name avaiable in dataframe\n",
    "            id_col_name: String\n",
    "                Column name which contains id of the item e.g.: \"book_id\"\n",
    "\n",
    "        Returns\n",
    "        -------\n",
    "            Pandas Series\n",
    "                A pandas series containing process features\n",
    "                that are ready for feed into lightfm.\n",
    "                The format of each value\n",
    "                will be (user_id, ['feature_1', 'feature_2', 'feature_3'])\n",
    "        \"\"\"\n",
    "\n",
    "        features = dataframe[features_name].apply(lambda x: ','.join(x.map(str)), axis=1)\n",
    "        features = features.str.split(',')\n",
    "        features = list(zip(dataframe[id_col_name], features))\n",
    "        return features\n",
    "\n",
    "        \n",
    "    def get_all_feature_data(self, metadata, interactions ,features_name, id_col_name, ):\n",
    "            \n",
    "        \"\"\"\n",
    "        Generate lighfm data for trainig the model\n",
    "    \n",
    "        Parameters\n",
    "        ----------\n",
    "            metadata: Dataframe\n",
    "                Pandas Dataframe containing item features\n",
    "            interactions: Dataframe\n",
    "                Pandas Dataframe containing user-item interactions\n",
    "            features_name : List\n",
    "                List of feature columns name avaiable in dataframe. \n",
    "            id_col_name: String\n",
    "                The item_id column name\n",
    "        Returns\n",
    "        -------\n",
    "            List of all features for mapping \n",
    "        \"\"\"\n",
    "        book_sentiments = metadata[metadata.book_id.isin(interactions.book_id)]\n",
    "        \n",
    "        features_list = self.generate_feature_list(book_sentiments, features_name)\n",
    "        book_features = self.create_features(book_sentiments, features_name, id_col_name)\n",
    "        \n",
    "\n",
    "        dataset = Dataset(user_identity_features=False)\n",
    "        dataset.fit(interactions['user_id'].unique(), \n",
    "                    book_sentiments['book_id'].unique(),\n",
    "                    item_features=features_list)\n",
    "        \n",
    "        lightfm_item_features = dataset.build_item_features(book_features)\n",
    "        \n",
    "        interactions = list(zip(interactions.user_id,\n",
    "                                interactions.book_id,\n",
    "                                interactions.rating))\n",
    "\n",
    "        lightfm_interactions, lightfm_weights = dataset.build_interactions(interactions)\n",
    "        \n",
    "        user_id_mapping = pd.DataFrame(list(dataset.mapping()[0].items()), columns=['user_id', 'inner_uid'])\n",
    "        item_id_mapping = pd.DataFrame(list(dataset.mapping()[2].items()), columns=['book_id', 'inner_iid'])\n",
    "    \n",
    "        \n",
    "        return lightfm_item_features, lightfm_interactions, lightfm_weights, user_id_mapping, item_id_mapping"
   ]
  },
  {
   "cell_type": "code",
   "execution_count": 3,
   "id": "da3fee57",
   "metadata": {
    "execution": {
     "iopub.execute_input": "2021-09-19T13:56:24.535057Z",
     "iopub.status.busy": "2021-09-19T13:56:24.534341Z",
     "iopub.status.idle": "2021-09-19T13:56:24.546054Z",
     "shell.execute_reply": "2021-09-19T13:56:24.546511Z",
     "shell.execute_reply.started": "2021-09-19T13:09:52.945700Z"
    },
    "papermill": {
     "duration": 0.040039,
     "end_time": "2021-09-19T13:56:24.546707",
     "exception": false,
     "start_time": "2021-09-19T13:56:24.506668",
     "status": "completed"
    },
    "tags": []
   },
   "outputs": [],
   "source": [
    "def sample_hyperparameters():\n",
    "    \"\"\"\n",
    "    Yield possible hyperparameter choices.\n",
    "    \"\"\"\n",
    "    while True:\n",
    "        yield {\n",
    "            \"no_components\": np.random.randint(10, 100),\n",
    "            \"learning_schedule\": np.random.choice([\"adagrad\"]),\n",
    "            \"loss\": np.random.choice([\"warp\"]),\n",
    "            \"learning_rate\": np.random.exponential(0.001),\n",
    "            \"item_alpha\": np.random.exponential(0.0005),\n",
    "            \"max_sampled\": np.random.randint(5, 10),\n",
    "            \"num_epochs\": np.random.randint(10,200)\n",
    "        }\n",
    "\n",
    "def random_search(train, test, item_features, weights, num_threads, num_samples):\n",
    "    \"\"\"\n",
    "        Create a lighfm model given the hyperparameters, evaluates AUC score and returns the\n",
    "        best score, model and hyperparameters\n",
    "    \n",
    "        Parameters\n",
    "        ----------\n",
    "            train: output of a train_test_split() method or a coo_matrix\n",
    "            test: output of a train_test_split() method or a coo_matrix\n",
    "            item_features : csr_matrix containing item_features\n",
    "            weights: weights matrix\n",
    "            num_threads: number\n",
    "            num_samples: number\n",
    "        Returns\n",
    "        -------\n",
    "            best score, model and hyperparameters\n",
    "    \"\"\"\n",
    "    for hyperparams in itertools.islice(sample_hyperparameters(), num_samples):\n",
    "        print(hyperparams )\n",
    "        num_epochs = hyperparams.pop(\"num_epochs\")\n",
    "\n",
    "        model = LightFM(**hyperparams)\n",
    "        model.fit(train,\n",
    "                  item_features=item_features, sample_weight=weights,\n",
    "                  epochs=num_epochs, num_threads=num_threads, verbose=True)\n",
    "        score = auc_score(model, test, train_interactions=train, num_threads=num_threads, item_features=item_features).mean()\n",
    "        hyperparams[\"num_epochs\"] = num_epochs\n",
    "\n",
    "        yield (score, hyperparams, model)\n",
    "        \n",
    "def random_search_without_features(train, test, weights, num_threads, num_samples):\n",
    "    for hyperparams in itertools.islice(sample_hyperparameters(), num_samples):\n",
    "        print(hyperparams )\n",
    "        num_epochs = hyperparams.pop(\"num_epochs\")\n",
    "\n",
    "        model = LightFM(**hyperparams)\n",
    "        model.fit(train,\n",
    "                  sample_weight=weights,\n",
    "                  epochs=num_epochs, num_threads=num_threads, verbose=True)\n",
    "        score = auc_score(model, test, train_interactions=train, num_threads=num_threads).mean()\n",
    "        hyperparams[\"num_epochs\"] = num_epochs\n",
    "\n",
    "        yield (score, hyperparams, model)\n"
   ]
  },
  {
   "cell_type": "code",
   "execution_count": 4,
   "id": "645b2890",
   "metadata": {
    "execution": {
     "iopub.execute_input": "2021-09-19T13:56:24.598459Z",
     "iopub.status.busy": "2021-09-19T13:56:24.597779Z",
     "iopub.status.idle": "2021-09-19T13:57:36.971152Z",
     "shell.execute_reply": "2021-09-19T13:57:36.971678Z",
     "shell.execute_reply.started": "2021-09-19T12:55:31.055953Z"
    },
    "papermill": {
     "duration": 72.400839,
     "end_time": "2021-09-19T13:57:36.971861",
     "exception": false,
     "start_time": "2021-09-19T13:56:24.571022",
     "status": "completed"
    },
    "tags": []
   },
   "outputs": [
    {
     "data": {
      "text/plain": [
       "<function gc.collect(generation=2)>"
      ]
     },
     "execution_count": 4,
     "metadata": {},
     "output_type": "execute_result"
    }
   ],
   "source": [
    "#Read data from files\n",
    "\n",
    "sentiments = pd.read_csv('../input/poetry-sentiment-scores/sentiment_scores.csv')\n",
    "all_interactions = pd.read_json ('../input/all-poetry-interactions/goodreads_interactions_poetry.json', lines=True)\n",
    "books_metadata = pd.read_json('../input/poetry-books/goodreads_books_poetry.json', lines=True)\n",
    "\n",
    "#get mean sentiment score/overall sentiment score per book\n",
    "book_sentiments = pd.DataFrame(sentiments.groupby(['book_id'])['compound'].mean())\n",
    "book_sentiments = book_sentiments.reset_index()\n",
    "\n",
    "#Round to 3 decimal places\n",
    "book_sentiments['compound'] = np.round(book_sentiments['compound'], decimals = 3)\n",
    "\n",
    "#Only user_id, book_id and rating are needed\n",
    "all_interactions = all_interactions[['user_id', 'book_id','rating']]\n",
    "all_interactions\n",
    "\n",
    "#Drop interactions where rating is = 0\n",
    "all_interactions = all_interactions[all_interactions.book_id.isin(book_sentiments.book_id)]\n",
    "all_interactions = all_interactions[~(all_interactions['rating'] == 0 )]\n",
    "\n",
    "# Make sure book metadata are available\n",
    "book_sentiments= pd.merge(books_metadata,book_sentiments,on='book_id',how='left')\n",
    "book_sentiments['compound'] = book_sentiments['compound'].fillna(((book_sentiments['average_rating']-1)/2)- 1)\n",
    "\n",
    "#Books which are rated by at least 20 users and, users who have rated atleast 20 books will be considered\n",
    "df1 = all_interactions.groupby('book_id').size().sort_values().reset_index(name='count')\n",
    "df1.drop(df1[df1['count'] < 20].index, inplace = True)\n",
    "all_interactions = all_interactions[(all_interactions.book_id.isin(df1.book_id))].dropna()\n",
    "\n",
    "df2 = all_interactions.groupby('user_id').size().sort_values().reset_index(name='count')\n",
    "df2.drop(df2[df2['count'] < 20].index, inplace = True)\n",
    "all_interactions = all_interactions[(all_interactions.user_id.isin(df2.user_id))].dropna()\n",
    "\n",
    "book_sentiments = book_sentiments[book_sentiments.book_id.isin(all_interactions.book_id)]\n",
    "\n",
    "#del books_metadata\n",
    "del df1\n",
    "del df2\n",
    "del sentiments\n",
    "\n",
    "gc.collect"
   ]
  },
  {
   "cell_type": "code",
   "execution_count": 5,
   "id": "61199641",
   "metadata": {
    "execution": {
     "iopub.execute_input": "2021-09-19T13:57:37.026159Z",
     "iopub.status.busy": "2021-09-19T13:57:37.025489Z",
     "iopub.status.idle": "2021-09-19T13:57:37.028398Z",
     "shell.execute_reply": "2021-09-19T13:57:37.028899Z",
     "shell.execute_reply.started": "2021-09-07T11:52:29.282722Z"
    },
    "papermill": {
     "duration": 0.032838,
     "end_time": "2021-09-19T13:57:37.029060",
     "exception": false,
     "start_time": "2021-09-19T13:57:36.996222",
     "status": "completed"
    },
    "tags": []
   },
   "outputs": [
    {
     "data": {
      "text/plain": [
       "265072"
      ]
     },
     "execution_count": 5,
     "metadata": {},
     "output_type": "execute_result"
    }
   ],
   "source": [
    "len(all_interactions)"
   ]
  },
  {
   "cell_type": "code",
   "execution_count": 6,
   "id": "250c14f5",
   "metadata": {
    "execution": {
     "iopub.execute_input": "2021-09-19T13:57:37.082351Z",
     "iopub.status.busy": "2021-09-19T13:57:37.081674Z",
     "iopub.status.idle": "2021-09-19T13:57:37.833260Z",
     "shell.execute_reply": "2021-09-19T13:57:37.833813Z",
     "shell.execute_reply.started": "2021-09-19T12:59:49.753227Z"
    },
    "papermill": {
     "duration": 0.780322,
     "end_time": "2021-09-19T13:57:37.834004",
     "exception": false,
     "start_time": "2021-09-19T13:57:37.053682",
     "status": "completed"
    },
    "tags": []
   },
   "outputs": [],
   "source": [
    "all_interactions['user_id'].to_csv(\"user_id_list.csv\", index=False)"
   ]
  },
  {
   "cell_type": "code",
   "execution_count": 7,
   "id": "4f4de3ea",
   "metadata": {
    "execution": {
     "iopub.execute_input": "2021-09-19T13:57:37.890881Z",
     "iopub.status.busy": "2021-09-19T13:57:37.890197Z",
     "iopub.status.idle": "2021-09-19T13:57:37.892883Z",
     "shell.execute_reply": "2021-09-19T13:57:37.893334Z",
     "shell.execute_reply.started": "2021-09-07T11:52:40.889788Z"
    },
    "papermill": {
     "duration": 0.033379,
     "end_time": "2021-09-19T13:57:37.893500",
     "exception": false,
     "start_time": "2021-09-19T13:57:37.860121",
     "status": "completed"
    },
    "tags": []
   },
   "outputs": [
    {
     "data": {
      "text/plain": [
       "5667"
      ]
     },
     "execution_count": 7,
     "metadata": {},
     "output_type": "execute_result"
    }
   ],
   "source": [
    "len(book_sentiments)"
   ]
  },
  {
   "cell_type": "code",
   "execution_count": 8,
   "id": "acb684c1",
   "metadata": {
    "execution": {
     "iopub.execute_input": "2021-09-19T13:57:37.948747Z",
     "iopub.status.busy": "2021-09-19T13:57:37.948079Z",
     "iopub.status.idle": "2021-09-19T13:57:37.951035Z",
     "shell.execute_reply": "2021-09-19T13:57:37.951542Z",
     "shell.execute_reply.started": "2021-09-04T06:34:32.986806Z"
    },
    "papermill": {
     "duration": 0.032823,
     "end_time": "2021-09-19T13:57:37.951727",
     "exception": false,
     "start_time": "2021-09-19T13:57:37.918904",
     "status": "completed"
    },
    "tags": []
   },
   "outputs": [],
   "source": [
    "#Add more features if necessary\n",
    "#book_sentiments['language_code'].replace(np.nan, 'unknown', inplace=True)\n",
    "#book_sentiments['language_code'].replace('', 'unknown', inplace=True)\n",
    "#book_sentiments['language_code'].replace('--', 'unknown', inplace=True)\n",
    "\n",
    "#book_sentiments = book_sentiments[['book_id','compound', 'language_code']]"
   ]
  },
  {
   "cell_type": "code",
   "execution_count": 9,
   "id": "3c46577f",
   "metadata": {
    "execution": {
     "iopub.execute_input": "2021-09-19T13:57:38.006373Z",
     "iopub.status.busy": "2021-09-19T13:57:38.005704Z",
     "iopub.status.idle": "2021-09-19T13:57:43.431213Z",
     "shell.execute_reply": "2021-09-19T13:57:43.430059Z",
     "shell.execute_reply.started": "2021-09-19T13:03:39.103350Z"
    },
    "papermill": {
     "duration": 5.454239,
     "end_time": "2021-09-19T13:57:43.431371",
     "exception": false,
     "start_time": "2021-09-19T13:57:37.977132",
     "status": "completed"
    },
    "tags": []
   },
   "outputs": [],
   "source": [
    "#Get interaction, item features and mappings\n",
    "data_prep = DataPrep()\n",
    "lightfm_item_features, lightfm_interactions, lightfm_weights, user_id_mapping, item_id_mapping = data_prep.get_all_feature_data(book_sentiments, all_interactions, ['compound'], 'book_id')\n"
   ]
  },
  {
   "cell_type": "code",
   "execution_count": 10,
   "id": "06f45fc0",
   "metadata": {
    "execution": {
     "iopub.execute_input": "2021-09-19T13:57:43.490678Z",
     "iopub.status.busy": "2021-09-19T13:57:43.489698Z",
     "iopub.status.idle": "2021-09-19T13:57:43.494097Z",
     "shell.execute_reply": "2021-09-19T13:57:43.493478Z",
     "shell.execute_reply.started": "2021-09-07T14:50:19.044426Z"
    },
    "papermill": {
     "duration": 0.035683,
     "end_time": "2021-09-19T13:57:43.494231",
     "exception": false,
     "start_time": "2021-09-19T13:57:43.458548",
     "status": "completed"
    },
    "tags": []
   },
   "outputs": [
    {
     "data": {
      "text/plain": [
       "<5667x6870 sparse matrix of type '<class 'numpy.float32'>'\n",
       "\twith 11334 stored elements in Compressed Sparse Row format>"
      ]
     },
     "execution_count": 10,
     "metadata": {},
     "output_type": "execute_result"
    }
   ],
   "source": [
    "lightfm_item_features"
   ]
  },
  {
   "cell_type": "code",
   "execution_count": 11,
   "id": "4865c333",
   "metadata": {
    "execution": {
     "iopub.execute_input": "2021-09-19T13:57:43.551644Z",
     "iopub.status.busy": "2021-09-19T13:57:43.550718Z",
     "iopub.status.idle": "2021-09-19T13:57:43.555230Z",
     "shell.execute_reply": "2021-09-19T13:57:43.554687Z",
     "shell.execute_reply.started": "2021-09-07T15:44:51.258988Z"
    },
    "papermill": {
     "duration": 0.035376,
     "end_time": "2021-09-19T13:57:43.555376",
     "exception": false,
     "start_time": "2021-09-19T13:57:43.520000",
     "status": "completed"
    },
    "tags": []
   },
   "outputs": [
    {
     "data": {
      "text/plain": [
       "<6774x5667 sparse matrix of type '<class 'numpy.int32'>'\n",
       "\twith 265072 stored elements in COOrdinate format>"
      ]
     },
     "execution_count": 11,
     "metadata": {},
     "output_type": "execute_result"
    }
   ],
   "source": [
    "lightfm_interactions"
   ]
  },
  {
   "cell_type": "code",
   "execution_count": 12,
   "id": "7b7a2fa4",
   "metadata": {
    "execution": {
     "iopub.execute_input": "2021-09-19T13:57:43.610773Z",
     "iopub.status.busy": "2021-09-19T13:57:43.610118Z",
     "iopub.status.idle": "2021-09-19T13:57:43.646283Z",
     "shell.execute_reply": "2021-09-19T13:57:43.646797Z",
     "shell.execute_reply.started": "2021-09-19T13:06:18.401977Z"
    },
    "papermill": {
     "duration": 0.065425,
     "end_time": "2021-09-19T13:57:43.647002",
     "exception": false,
     "start_time": "2021-09-19T13:57:43.581577",
     "status": "completed"
    },
    "tags": []
   },
   "outputs": [],
   "source": [
    "#split training, testing and validation data\n",
    "train, test_intermediate = random_train_test_split(\n",
    "                                        interactions=lightfm_interactions,\n",
    "                                        test_percentage=0.20,\n",
    "                                        random_state=100\n",
    "                                        )\n",
    "train_weight, test_intermediate_weight = random_train_test_split(\n",
    "                                                                interactions=lightfm_weights,\n",
    "                                                                test_percentage=0.20,\n",
    "                                                                random_state=100\n",
    "                                                                )\n",
    "validation, test = random_train_test_split(\n",
    "                                            interactions=test_intermediate,\n",
    "                                            test_percentage=0.50,\n",
    "                                            random_state=100\n",
    "                                        )\n",
    "validation_weight, test_weight = random_train_test_split(\n",
    "                                                        interactions=test_intermediate_weight,\n",
    "                                                        test_percentage=0.50,\n",
    "                                                        random_state=100\n",
    "                                                        )"
   ]
  },
  {
   "cell_type": "code",
   "execution_count": 13,
   "id": "7d48b511",
   "metadata": {
    "execution": {
     "iopub.execute_input": "2021-09-19T13:57:43.702956Z",
     "iopub.status.busy": "2021-09-19T13:57:43.702049Z",
     "iopub.status.idle": "2021-09-19T13:57:43.706580Z",
     "shell.execute_reply": "2021-09-19T13:57:43.705921Z"
    },
    "papermill": {
     "duration": 0.033726,
     "end_time": "2021-09-19T13:57:43.706774",
     "exception": false,
     "start_time": "2021-09-19T13:57:43.673048",
     "status": "completed"
    },
    "tags": []
   },
   "outputs": [],
   "source": [
    "#Returned model will have the model with the best parameters.\n",
    "#(score, hyperparams, model) = max(random_search(train=train,\n",
    "#                                                test=test, \n",
    "#                                                item_features=lightfm_item_features,\n",
    "#                                                weights=train_weight, \n",
    "#                                                num_threads=2, \n",
    "#                                                 num_samples=10), key=lambda x: x[0])\n",
    "\n",
    "#print(\"Best score {} at {}\".format(score, hyperparams))\n"
   ]
  },
  {
   "cell_type": "code",
   "execution_count": 14,
   "id": "abf60a7c",
   "metadata": {
    "execution": {
     "iopub.execute_input": "2021-09-19T13:57:43.769295Z",
     "iopub.status.busy": "2021-09-19T13:57:43.768436Z",
     "iopub.status.idle": "2021-09-19T13:58:44.580567Z",
     "shell.execute_reply": "2021-09-19T13:58:44.581096Z",
     "shell.execute_reply.started": "2021-09-19T13:16:58.600572Z"
    },
    "papermill": {
     "duration": 60.847223,
     "end_time": "2021-09-19T13:58:44.581275",
     "exception": false,
     "start_time": "2021-09-19T13:57:43.734052",
     "status": "completed"
    },
    "tags": []
   },
   "outputs": [
    {
     "name": "stderr",
     "output_type": "stream",
     "text": [
      "Epoch: 100%|██████████| 91/91 [00:58<00:00,  1.56it/s]\n"
     ]
    },
    {
     "name": "stdout",
     "output_type": "stream",
     "text": [
      "0.88538194\n"
     ]
    }
   ],
   "source": [
    "#Create model from the chosen hyperparameters\n",
    "model = LightFM(no_components=93, \n",
    "                learning_schedule= 'adagrad', \n",
    "                loss='warp',\n",
    "                learning_rate=0.004797, \n",
    "                item_alpha=5.071235338644859e-05,\n",
    "                max_sampled=8)\n",
    "model.fit(train,\n",
    "          item_features=lightfm_item_features, sample_weight=train_weight,\n",
    "          epochs=91, num_threads=2, verbose=True)\n",
    "score = auc_score(model, test, train_interactions=train,item_features =lightfm_item_features, num_threads=2).mean()\n",
    "print(score)"
   ]
  },
  {
   "cell_type": "code",
   "execution_count": 15,
   "id": "bc0c4d88",
   "metadata": {
    "execution": {
     "iopub.execute_input": "2021-09-19T13:58:44.695498Z",
     "iopub.status.busy": "2021-09-19T13:58:44.694845Z",
     "iopub.status.idle": "2021-09-19T13:58:44.716068Z",
     "shell.execute_reply": "2021-09-19T13:58:44.716597Z",
     "shell.execute_reply.started": "2021-09-19T13:18:31.980390Z"
    },
    "papermill": {
     "duration": 0.080054,
     "end_time": "2021-09-19T13:58:44.716785",
     "exception": false,
     "start_time": "2021-09-19T13:58:44.636731",
     "status": "completed"
    },
    "tags": []
   },
   "outputs": [],
   "source": [
    "#Save model \n",
    "with open('saved_model','wb') as f:\n",
    "    saved_model={'model':model}\n",
    "    pickle.dump(saved_model, f, protocol=pickle.HIGHEST_PROTOCOL)"
   ]
  },
  {
   "cell_type": "code",
   "execution_count": 16,
   "id": "052ed851",
   "metadata": {
    "execution": {
     "iopub.execute_input": "2021-09-19T13:58:44.829016Z",
     "iopub.status.busy": "2021-09-19T13:58:44.828352Z",
     "iopub.status.idle": "2021-09-19T13:59:05.186081Z",
     "shell.execute_reply": "2021-09-19T13:59:05.186543Z",
     "shell.execute_reply.started": "2021-09-07T17:30:09.301317Z"
    },
    "papermill": {
     "duration": 20.415092,
     "end_time": "2021-09-19T13:59:05.186744",
     "exception": false,
     "start_time": "2021-09-19T13:58:44.771652",
     "status": "completed"
    },
    "tags": []
   },
   "outputs": [
    {
     "name": "stdout",
     "output_type": "stream",
     "text": [
      "Train Precision: 0.2796870470046997\n",
      "Test Precision: 0.049634356051683426\n",
      "Train Recall: 0.108743044938925\n",
      "Train Recall: 0.13952723090535687\n"
     ]
    }
   ],
   "source": [
    "#Precision and Recall\n",
    "train_precision = precision_at_k(model, train, k=10,item_features=lightfm_item_features).mean()\n",
    "test_precision = precision_at_k(model, test,train_interactions=train, k=10,item_features=lightfm_item_features).mean()\n",
    "print(\"Train Precision: {}\".format(train_precision))\n",
    "print(\"Test Precision: {}\".format(test_precision))\n",
    "\n",
    "train_recall = recall_at_k(model, train, k=10, item_features=lightfm_item_features).mean()\n",
    "test_recall = recall_at_k(model, test,train_interactions=train, k=10, item_features=lightfm_item_features).mean()\n",
    "print(\"Train Recall: {}\".format(train_recall))\n",
    "print(\"Train Recall: {}\".format(test_recall))"
   ]
  },
  {
   "cell_type": "code",
   "execution_count": 17,
   "id": "74c604b3",
   "metadata": {
    "execution": {
     "iopub.execute_input": "2021-09-19T13:59:05.303025Z",
     "iopub.status.busy": "2021-09-19T13:59:05.302308Z",
     "iopub.status.idle": "2021-09-19T13:59:09.400192Z",
     "shell.execute_reply": "2021-09-19T13:59:09.399461Z",
     "shell.execute_reply.started": "2021-09-08T03:03:00.641633Z"
    },
    "papermill": {
     "duration": 4.157494,
     "end_time": "2021-09-19T13:59:09.400346",
     "exception": false,
     "start_time": "2021-09-19T13:59:05.242852",
     "status": "completed"
    },
    "tags": []
   },
   "outputs": [],
   "source": [
    "precision_arr=precision_at_k(model, validation, train_interactions=train,k=10,item_features=lightfm_item_features)"
   ]
  },
  {
   "cell_type": "code",
   "execution_count": 18,
   "id": "ba3a2a64",
   "metadata": {
    "execution": {
     "iopub.execute_input": "2021-09-19T13:59:09.517089Z",
     "iopub.status.busy": "2021-09-19T13:59:09.516349Z",
     "iopub.status.idle": "2021-09-19T13:59:09.519174Z",
     "shell.execute_reply": "2021-09-19T13:59:09.519730Z",
     "shell.execute_reply.started": "2021-09-08T03:08:51.200494Z"
    },
    "papermill": {
     "duration": 0.063972,
     "end_time": "2021-09-19T13:59:09.519950",
     "exception": false,
     "start_time": "2021-09-19T13:59:09.455978",
     "status": "completed"
    },
    "tags": []
   },
   "outputs": [
    {
     "name": "stdout",
     "output_type": "stream",
     "text": [
      "[0.  0.  0.  0.  0.2 0.  0.1 0.1 0.1 0.1 0.  0.  0.  0.1 0.  0.1 0.  0.\n",
      " 0.2 0. ]\n"
     ]
    }
   ],
   "source": [
    "print(precision_arr[:20])"
   ]
  },
  {
   "cell_type": "code",
   "execution_count": 19,
   "id": "cdd0806a",
   "metadata": {
    "execution": {
     "iopub.execute_input": "2021-09-19T13:59:09.641037Z",
     "iopub.status.busy": "2021-09-19T13:59:09.640410Z",
     "iopub.status.idle": "2021-09-19T13:59:09.644587Z",
     "shell.execute_reply": "2021-09-19T13:59:09.645165Z",
     "shell.execute_reply.started": "2021-09-08T03:03:06.833385Z"
    },
    "papermill": {
     "duration": 0.06345,
     "end_time": "2021-09-19T13:59:09.645324",
     "exception": false,
     "start_time": "2021-09-19T13:59:09.581874",
     "status": "completed"
    },
    "tags": []
   },
   "outputs": [],
   "source": [
    "new_arr_no_0 = precision_arr[np.where(precision_arr!=0)]\n",
    "new_arr_0 = precision_arr[np.where(precision_arr==0)]"
   ]
  },
  {
   "cell_type": "code",
   "execution_count": 20,
   "id": "1d69e695",
   "metadata": {
    "execution": {
     "iopub.execute_input": "2021-09-19T13:59:09.758968Z",
     "iopub.status.busy": "2021-09-19T13:59:09.758308Z",
     "iopub.status.idle": "2021-09-19T13:59:09.763696Z",
     "shell.execute_reply": "2021-09-19T13:59:09.764294Z",
     "shell.execute_reply.started": "2021-09-08T03:10:00.570633Z"
    },
    "papermill": {
     "duration": 0.063513,
     "end_time": "2021-09-19T13:59:09.764460",
     "exception": false,
     "start_time": "2021-09-19T13:59:09.700947",
     "status": "completed"
    },
    "tags": []
   },
   "outputs": [
    {
     "name": "stdout",
     "output_type": "stream",
     "text": [
      "6451\n",
      "2390\n",
      "4061\n"
     ]
    }
   ],
   "source": [
    "print(len(precision_arr))\n",
    "print(len(new_arr_no_0))\n",
    "print(len(new_arr_0))"
   ]
  },
  {
   "cell_type": "code",
   "execution_count": 21,
   "id": "a54ac1fd",
   "metadata": {
    "execution": {
     "iopub.execute_input": "2021-09-19T13:59:09.879761Z",
     "iopub.status.busy": "2021-09-19T13:59:09.879073Z",
     "iopub.status.idle": "2021-09-19T13:59:09.884166Z",
     "shell.execute_reply": "2021-09-19T13:59:09.884697Z",
     "shell.execute_reply.started": "2021-09-08T03:10:04.478224Z"
    },
    "papermill": {
     "duration": 0.064261,
     "end_time": "2021-09-19T13:59:09.884924",
     "exception": false,
     "start_time": "2021-09-19T13:59:09.820663",
     "status": "completed"
    },
    "tags": []
   },
   "outputs": [
    {
     "name": "stdout",
     "output_type": "stream",
     "text": [
      "[0.1 0.1 0.1 ... 0.4 0.5 0.5]\n"
     ]
    }
   ],
   "source": [
    "sorted_arr = np.sort(new_arr_no_0)\n",
    "print(sorted_arr)"
   ]
  },
  {
   "cell_type": "code",
   "execution_count": 22,
   "id": "1de779d5",
   "metadata": {
    "execution": {
     "iopub.execute_input": "2021-09-19T13:59:10.001767Z",
     "iopub.status.busy": "2021-09-19T13:59:10.001114Z",
     "iopub.status.idle": "2021-09-19T13:59:20.494957Z",
     "shell.execute_reply": "2021-09-19T13:59:20.494415Z",
     "shell.execute_reply.started": "2021-09-08T04:00:03.440196Z"
    },
    "papermill": {
     "duration": 10.553367,
     "end_time": "2021-09-19T13:59:20.495111",
     "exception": false,
     "start_time": "2021-09-19T13:59:09.941744",
     "status": "completed"
    },
    "tags": []
   },
   "outputs": [
    {
     "name": "stdout",
     "output_type": "stream",
     "text": [
      "AUC: 0.88675433\n",
      "Validation Precision: 0.05084482952952385\n",
      "Validation Recall: 0.14176730038258764\n"
     ]
    }
   ],
   "source": [
    "#Test on remaining validation data\n",
    "val_auc = auc_score(model, validation, train_interactions=train, num_threads=2, item_features=lightfm_item_features).mean()\n",
    "print('AUC: %s' % val_auc)\n",
    "\n",
    "#Precision and Recall\n",
    "val_precision = precision_at_k(model, validation,train_interactions=train, k=10,item_features=lightfm_item_features).mean()\n",
    "print(\"Validation Precision: {}\".format(val_precision))\n",
    "\n",
    "val_recall = recall_at_k(model, validation,train_interactions=train, k=10, item_features=lightfm_item_features).mean()\n",
    "print(\"Validation Recall: {}\".format(val_recall))"
   ]
  },
  {
   "cell_type": "code",
   "execution_count": 23,
   "id": "e87a1aad",
   "metadata": {
    "execution": {
     "iopub.execute_input": "2021-09-19T13:59:20.622337Z",
     "iopub.status.busy": "2021-09-19T13:59:20.621635Z",
     "iopub.status.idle": "2021-09-19T13:59:20.624786Z",
     "shell.execute_reply": "2021-09-19T13:59:20.624268Z",
     "shell.execute_reply.started": "2021-09-19T13:02:07.622301Z"
    },
    "papermill": {
     "duration": 0.071887,
     "end_time": "2021-09-19T13:59:20.624932",
     "exception": false,
     "start_time": "2021-09-19T13:59:20.553045",
     "status": "completed"
    },
    "tags": []
   },
   "outputs": [],
   "source": [
    "class MakeRecommendations:\n",
    "    \"\"\"\n",
    "    Make prediction given model and user ids\n",
    "    \"\"\"\n",
    "    def __init__(self, lightfm_model,\n",
    "                 books,\n",
    "                 item_features,\n",
    "                 interactions,\n",
    "                 user_id_mapping,\n",
    "                 item_id_mapping):\n",
    "        self.model = lightfm_model\n",
    "        self.books = books\n",
    "        self.item_features = item_features\n",
    "        self.interactions = interactions\n",
    "        self.user_id_map = user_id_mapping\n",
    "        self.item_id_map = item_id_mapping\n",
    "\n",
    "    def _filter_already_read_books(self, user_id):\n",
    "        \"\"\"Drop books already read(rated) by the user_id\"\"\"\n",
    "       \n",
    "        read_book_ids = self.interactions.loc[self.interactions['user_id'] == user_id,'book_id']\n",
    "        books_for_prediction = self.item_id_map.loc[~self.item_id_map['book_id'].isin(read_book_ids.tolist())]\n",
    "\n",
    "        return books_for_prediction\n",
    "\n",
    "    def make_recommendations_per_user(self, user_ids, num_prediction=5, num_threads=1):\n",
    "        \n",
    "\n",
    "        inner_uid = self.user_id_map[(self.user_id_map['user_id'] == user_ids)].inner_uid.values[0]\n",
    "\n",
    "\n",
    "        #get books already not read by the user.\n",
    "        books_for_prediction = self._filter_already_read_books(user_ids)\n",
    "        \n",
    "        score = self.model.predict(\n",
    "                            int(inner_uid),\n",
    "                            books_for_prediction['inner_iid'].values.tolist(),\n",
    "                            item_features=self.item_features)\n",
    "        \n",
    "        books_for_prediction = books_for_prediction.copy()\n",
    "        books_for_prediction['recommendation_score'] = score\n",
    "        books_for_prediction = books_for_prediction.sort_values( by='recommendation_score', ascending=False)[:num_prediction]\n",
    "        \n",
    "        print(\"User {} may be interested in the following books\".format(user_ids))\n",
    "        books_for_prediction = self.books.loc[self.books['book_id'].isin(books_for_prediction['book_id'])][['title']]\n",
    "        print(books_for_prediction.to_markdown(index=False))\n",
    "        \n",
    "        return books_for_prediction\n",
    "        "
   ]
  },
  {
   "cell_type": "code",
   "execution_count": 24,
   "id": "b52d2e33",
   "metadata": {
    "execution": {
     "iopub.execute_input": "2021-09-19T13:59:20.742410Z",
     "iopub.status.busy": "2021-09-19T13:59:20.741464Z",
     "iopub.status.idle": "2021-09-19T13:59:20.745533Z",
     "shell.execute_reply": "2021-09-19T13:59:20.745997Z",
     "shell.execute_reply.started": "2021-09-07T15:50:27.081135Z"
    },
    "papermill": {
     "duration": 0.064315,
     "end_time": "2021-09-19T13:59:20.746163",
     "exception": false,
     "start_time": "2021-09-19T13:59:20.681848",
     "status": "completed"
    },
    "tags": []
   },
   "outputs": [],
   "source": [
    "make_recommendations = MakeRecommendations(model,book_sentiments,lightfm_item_features, all_interactions, user_id_mapping, item_id_mapping )"
   ]
  },
  {
   "cell_type": "code",
   "execution_count": 25,
   "id": "bd092ab5",
   "metadata": {
    "execution": {
     "iopub.execute_input": "2021-09-19T13:59:20.864071Z",
     "iopub.status.busy": "2021-09-19T13:59:20.863050Z",
     "iopub.status.idle": "2021-09-19T13:59:20.931808Z",
     "shell.execute_reply": "2021-09-19T13:59:20.931283Z",
     "shell.execute_reply.started": "2021-09-07T15:50:28.602721Z"
    },
    "papermill": {
     "duration": 0.128842,
     "end_time": "2021-09-19T13:59:20.931951",
     "exception": false,
     "start_time": "2021-09-19T13:59:20.803109",
     "status": "completed"
    },
    "tags": []
   },
   "outputs": [
    {
     "name": "stdout",
     "output_type": "stream",
     "text": [
      "User 561130041c7cbc45193e38b5cd9eea83 may be interested in the following books\n",
      "| title                                 |\n",
      "|:--------------------------------------|\n",
      "| Howl and Other Poems                  |\n",
      "| The Iliad                             |\n",
      "| The Canterbury Tales                  |\n",
      "| Leaves of Grass                       |\n",
      "| The Complete Poems of Emily Dickinson |\n",
      "| A Light in the Attic                  |\n",
      "| Where the Sidewalk Ends               |\n",
      "| The Odyssey                           |\n",
      "| The Waste Land and Other Poems        |\n",
      "| Paradise Lost                         |\n"
     ]
    }
   ],
   "source": [
    "preds = make_recommendations.make_recommendations_per_user('561130041c7cbc45193e38b5cd9eea83', num_prediction=10)"
   ]
  },
  {
   "cell_type": "code",
   "execution_count": 26,
   "id": "9bbd0f76",
   "metadata": {
    "execution": {
     "iopub.execute_input": "2021-09-19T13:59:21.053482Z",
     "iopub.status.busy": "2021-09-19T13:59:21.052840Z",
     "iopub.status.idle": "2021-09-19T13:59:22.076529Z",
     "shell.execute_reply": "2021-09-19T13:59:22.075963Z"
    },
    "papermill": {
     "duration": 1.087432,
     "end_time": "2021-09-19T13:59:22.076702",
     "exception": false,
     "start_time": "2021-09-19T13:59:20.989270",
     "status": "completed"
    },
    "tags": []
   },
   "outputs": [],
   "source": [
    "from scipy import sparse\n",
    "\n",
    "sparse.save_npz(\"lightfm_item_features.npz\", lightfm_item_features)\n",
    "user_id_mapping.to_csv(\"user_id_mapping.csv\", index=False)\n",
    "item_id_mapping.to_csv(\"item_id_mapping.csv\", index=False)\n",
    "all_interactions.to_csv(\"all_interactions.csv\", index=False)\n",
    "book_sentiments[['book_id', 'title']].to_csv(\"books.csv\", index=False)"
   ]
  },
  {
   "cell_type": "code",
   "execution_count": 27,
   "id": "14e9ee24",
   "metadata": {
    "execution": {
     "iopub.execute_input": "2021-09-19T13:59:22.204283Z",
     "iopub.status.busy": "2021-09-19T13:59:22.203574Z",
     "iopub.status.idle": "2021-09-19T13:59:22.206571Z",
     "shell.execute_reply": "2021-09-19T13:59:22.206095Z",
     "shell.execute_reply.started": "2021-09-08T04:02:05.198456Z"
    },
    "papermill": {
     "duration": 0.068697,
     "end_time": "2021-09-19T13:59:22.206750",
     "exception": false,
     "start_time": "2021-09-19T13:59:22.138053",
     "status": "completed"
    },
    "tags": []
   },
   "outputs": [],
   "source": [
    "def recall_precision_at_ks():\n",
    "    n_recommendations = [1, 5, 10, 15, 20, 25, 30, 35, 40, 45, 50]\n",
    "    \n",
    "    df = pd.DataFrame(columns = ['k','precision', 'recall'])\n",
    "    for n in n_recommendations: \n",
    "        val_precision = precision_at_k(model, test_intermediate, k=n,item_features=lightfm_item_features).mean()\n",
    "        val_recall = recall_at_k(model, test_intermediate, k=n, item_features=lightfm_item_features).mean()\n",
    "        \n",
    "        df = df.append({'k' : n, 'precision' : val_precision, 'recall' : val_recall},ignore_index = True)\n",
    "\n",
    "    val_auc = auc_score(model, test_intermediate, train_interactions=train, num_threads=2, item_features=lightfm_item_features).mean()\n",
    "    \n",
    "    plt.plot(df['recall'], df['precision'], '-')\n",
    "    plt.ylabel(\"Precision Scores\")\n",
    "    plt.xlabel(\"Recall Scores\")\n",
    "    plt.title(\"ROC Scores and Auc of \" + str(round(val_auc, 2)))\n",
    "    plt.show()\n",
    "    return df"
   ]
  },
  {
   "cell_type": "code",
   "execution_count": 28,
   "id": "106823d2",
   "metadata": {
    "execution": {
     "iopub.execute_input": "2021-09-19T13:59:22.333402Z",
     "iopub.status.busy": "2021-09-19T13:59:22.332756Z",
     "iopub.status.idle": "2021-09-19T14:01:01.014949Z",
     "shell.execute_reply": "2021-09-19T14:01:01.015507Z",
     "shell.execute_reply.started": "2021-09-08T04:02:11.340615Z"
    },
    "papermill": {
     "duration": 98.74962,
     "end_time": "2021-09-19T14:01:01.015727",
     "exception": false,
     "start_time": "2021-09-19T13:59:22.266107",
     "status": "completed"
    },
    "tags": []
   },
   "outputs": [
    {
     "data": {
      "image/png": "[encoded data removed]",
      "text/plain": [
       "<Figure size 432x288 with 1 Axes>"
      ]
     },
     "metadata": {
      "needs_background": "light"
     },
     "output_type": "display_data"
    }
   ],
   "source": [
    "recall_precision_vals=recall_precision_at_ks()"
   ]
  },
  {
   "cell_type": "code",
   "execution_count": 29,
   "id": "cc74c327",
   "metadata": {
    "execution": {
     "iopub.execute_input": "2021-09-19T14:01:01.153545Z",
     "iopub.status.busy": "2021-09-19T14:01:01.152532Z",
     "iopub.status.idle": "2021-09-19T14:01:01.169177Z",
     "shell.execute_reply": "2021-09-19T14:01:01.169948Z",
     "shell.execute_reply.started": "2021-09-08T04:27:01.85307Z"
    },
    "papermill": {
     "duration": 0.080177,
     "end_time": "2021-09-19T14:01:01.170179",
     "exception": false,
     "start_time": "2021-09-19T14:01:01.090002",
     "status": "completed"
    },
    "tags": []
   },
   "outputs": [
    {
     "data": {
      "text/html": [
       "<div>\n",
       "<style scoped>\n",
       "    .dataframe tbody tr th:only-of-type {\n",
       "        vertical-align: middle;\n",
       "    }\n",
       "\n",
       "    .dataframe tbody tr th {\n",
       "        vertical-align: top;\n",
       "    }\n",
       "\n",
       "    .dataframe thead th {\n",
       "        text-align: right;\n",
       "    }\n",
       "</style>\n",
       "<table border=\"1\" class=\"dataframe\">\n",
       "  <thead>\n",
       "    <tr style=\"text-align: right;\">\n",
       "      <th></th>\n",
       "      <th>k</th>\n",
       "      <th>precision</th>\n",
       "      <th>recall</th>\n",
       "    </tr>\n",
       "  </thead>\n",
       "  <tbody>\n",
       "    <tr>\n",
       "      <th>0</th>\n",
       "      <td>1.0</td>\n",
       "      <td>0.099008</td>\n",
       "      <td>0.016310</td>\n",
       "    </tr>\n",
       "    <tr>\n",
       "      <th>1</th>\n",
       "      <td>5.0</td>\n",
       "      <td>0.081663</td>\n",
       "      <td>0.064802</td>\n",
       "    </tr>\n",
       "    <tr>\n",
       "      <th>2</th>\n",
       "      <td>10.0</td>\n",
       "      <td>0.067930</td>\n",
       "      <td>0.104483</td>\n",
       "    </tr>\n",
       "    <tr>\n",
       "      <th>3</th>\n",
       "      <td>15.0</td>\n",
       "      <td>0.061901</td>\n",
       "      <td>0.141187</td>\n",
       "    </tr>\n",
       "    <tr>\n",
       "      <th>4</th>\n",
       "      <td>20.0</td>\n",
       "      <td>0.056416</td>\n",
       "      <td>0.169701</td>\n",
       "    </tr>\n",
       "    <tr>\n",
       "      <th>5</th>\n",
       "      <td>25.0</td>\n",
       "      <td>0.052532</td>\n",
       "      <td>0.196967</td>\n",
       "    </tr>\n",
       "    <tr>\n",
       "      <th>6</th>\n",
       "      <td>30.0</td>\n",
       "      <td>0.049159</td>\n",
       "      <td>0.220072</td>\n",
       "    </tr>\n",
       "    <tr>\n",
       "      <th>7</th>\n",
       "      <td>35.0</td>\n",
       "      <td>0.046377</td>\n",
       "      <td>0.240883</td>\n",
       "    </tr>\n",
       "    <tr>\n",
       "      <th>8</th>\n",
       "      <td>40.0</td>\n",
       "      <td>0.043921</td>\n",
       "      <td>0.259767</td>\n",
       "    </tr>\n",
       "    <tr>\n",
       "      <th>9</th>\n",
       "      <td>45.0</td>\n",
       "      <td>0.041823</td>\n",
       "      <td>0.276752</td>\n",
       "    </tr>\n",
       "    <tr>\n",
       "      <th>10</th>\n",
       "      <td>50.0</td>\n",
       "      <td>0.040038</td>\n",
       "      <td>0.293383</td>\n",
       "    </tr>\n",
       "  </tbody>\n",
       "</table>\n",
       "</div>"
      ],
      "text/plain": [
       "       k  precision    recall\n",
       "0    1.0   0.099008  0.016310\n",
       "1    5.0   0.081663  0.064802\n",
       "2   10.0   0.067930  0.104483\n",
       "3   15.0   0.061901  0.141187\n",
       "4   20.0   0.056416  0.169701\n",
       "5   25.0   0.052532  0.196967\n",
       "6   30.0   0.049159  0.220072\n",
       "7   35.0   0.046377  0.240883\n",
       "8   40.0   0.043921  0.259767\n",
       "9   45.0   0.041823  0.276752\n",
       "10  50.0   0.040038  0.293383"
      ]
     },
     "execution_count": 29,
     "metadata": {},
     "output_type": "execute_result"
    }
   ],
   "source": [
    "recall_precision_vals"
   ]
  }
 ],
 "metadata": {
  "kernelspec": {
   "display_name": "Python 3",
   "language": "python",
   "name": "python3"
  },
  "language_info": {
   "codemirror_mode": {
    "name": "ipython",
    "version": 3
   },
   "file_extension": ".py",
   "mimetype": "text/x-python",
   "name": "python",
   "nbconvert_exporter": "python",
   "pygments_lexer": "ipython3",
   "version": "3.7.10"
  },
  "papermill": {
   "default_parameters": {},
   "duration": 288.921159,
   "end_time": "2021-09-19T14:01:04.297340",
   "environment_variables": {},
   "exception": null,
   "input_path": "__notebook__.ipynb",
   "output_path": "__notebook__.ipynb",
   "parameters": {},
   "start_time": "2021-09-19T13:56:15.376181",
   "version": "2.3.3"
  }
 },
 "nbformat": 4,
 "nbformat_minor": 5
}
